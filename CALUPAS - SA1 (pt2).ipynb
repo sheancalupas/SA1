{
 "cells": [
  {
   "cell_type": "code",
   "execution_count": 41,
   "id": "e42ae10d-1af3-4d43-a257-4d369fafc778",
   "metadata": {},
   "outputs": [
    {
     "name": "stdout",
     "output_type": "stream",
     "text": [
      "Number 2: Fibonacci Sequence Comparison\n"
     ]
    },
    {
     "name": "stdin",
     "output_type": "stream",
     "text": [
      "Enter the number of Fibonacci terms to calculate:  a\n"
     ]
    },
    {
     "name": "stdout",
     "output_type": "stream",
     "text": [
      "Invalid input! Please enter a valid integer.\n",
      "\n"
     ]
    },
    {
     "name": "stdin",
     "output_type": "stream",
     "text": [
      "Enter the number of Fibonacci terms to calculate:  -1\n"
     ]
    },
    {
     "name": "stdout",
     "output_type": "stream",
     "text": [
      "Please enter a non-negative integer.\n",
      "\n"
     ]
    },
    {
     "name": "stdin",
     "output_type": "stream",
     "text": [
      "Enter the number of Fibonacci terms to calculate:  2345\n"
     ]
    },
    {
     "name": "stdout",
     "output_type": "stream",
     "text": [
      "\n",
      "Iterative Fibonacci(2345): 5327597224960201792165449472909119929077417391905923850475149536729816252346616513242637657408286872565705837839845991961176401953311893709053396883645453743357290153254923452778723456535428354467491872054447922155080886065141494660921560044089567823714509304552048323131137703433432723981204518978733190585676752065985753826689368772729751769886298054793622609127820694410889002279313952221711818009094407577835011301508620895985953402560498639797127608786211748220009185167462073482964845\n",
      "Iterative Time Taken: 0.000000 seconds\n",
      "\n",
      "Recursive Fibonacci(2345): 5327597224960201792165449472909119929077417391905923850475149536729816252346616513242637657408286872565705837839845991961176401953311893709053396883645453743357290153254923452778723456535428354467491872054447922155080886065141494660921560044089567823714509304552048323131137703433432723981204518978733190585676752065985753826689368772729751769886298054793622609127820694410889002279313952221711818009094407577835011301508620895985953402560498639797127608786211748220009185167462073482964845\n",
      "Recursive Time Taken: 0.002074 seconds\n",
      "\n",
      "Result:\n",
      "Iterative approach is faster!\n"
     ]
    }
   ],
   "source": [
    "# 2. Write a program on the Fibonacci sequence using both iterations and recursion, and including rendering time to compare the performance of both approaches.\n",
    "import time\n",
    "\n",
    "print('Number 2: Fibonacci Sequence Comparison')\n",
    "\n",
    "# Iterative Fibonacci function (O(n))\n",
    "def fibonacci_iter(n):\n",
    "    x = 1\n",
    "    z = 0\n",
    "    prev = 0\n",
    "    for i in range(n):\n",
    "        prev = z\n",
    "        z = x + z\n",
    "        x = prev\n",
    "    return z\n",
    "\n",
    "# Recursive Fibonacci function using tail recursion (O(n))\n",
    "def fibonacci_recur(n, x=1, z=0):\n",
    "    if n != 0:\n",
    "        return fibonacci_recur(n-1, z, x+z)\n",
    "    else:\n",
    "        return z\n",
    "\n",
    "# User input validation\n",
    "while True:\n",
    "    try:\n",
    "        n = int(input(\"Enter the number of Fibonacci terms to calculate: \"))\n",
    "        if n < 0:\n",
    "            print(\"Please enter a non-negative integer.\\n\")\n",
    "        else:\n",
    "            break\n",
    "    except ValueError:\n",
    "        print(\"Invalid input! Please enter a valid integer.\\n\")\n",
    "\n",
    "# Measure time for Iterative Fibonacci\n",
    "start_time = time.time()\n",
    "fib_iter_result = fibonacci_iter(n)\n",
    "end_time = time.time()\n",
    "iter_time = end_time - start_time\n",
    "\n",
    "# Measure time for Recursive Fibonacci\n",
    "start_time = time.time()\n",
    "fib_recur_result = fibonacci_recur(n)\n",
    "end_time = time.time()\n",
    "recur_time = end_time - start_time\n",
    "\n",
    "print(f\"\\nIterative Fibonacci({n}): {fib_iter_result}\")\n",
    "print(f\"Iterative Time Taken: {iter_time:f} seconds\")\n",
    "print(f\"\\nRecursive Fibonacci({n}): {fib_recur_result}\")\n",
    "print(f\"Recursive Time Taken: {recur_time:f} seconds\")\n",
    "\n",
    "# Comparison\n",
    "print('\\nResult:')\n",
    "if iter_time < recur_time:\n",
    "    print(\"Iterative approach is faster!\")\n",
    "elif iter_time > recur_time:\n",
    "    print(\"Recursive approach is faster!\")\n",
    "else:\n",
    "    print(\"Both approaches took the same time!\")\n"
   ]
  },
  {
   "cell_type": "code",
   "execution_count": null,
   "id": "c5ab6d67-80e6-4487-b309-99bd8f3b1dc2",
   "metadata": {},
   "outputs": [],
   "source": []
  }
 ],
 "metadata": {
  "kernelspec": {
   "display_name": "Python [conda env:base] *",
   "language": "python",
   "name": "conda-base-py"
  },
  "language_info": {
   "codemirror_mode": {
    "name": "ipython",
    "version": 3
   },
   "file_extension": ".py",
   "mimetype": "text/x-python",
   "name": "python",
   "nbconvert_exporter": "python",
   "pygments_lexer": "ipython3",
   "version": "3.12.7"
  }
 },
 "nbformat": 4,
 "nbformat_minor": 5
}
