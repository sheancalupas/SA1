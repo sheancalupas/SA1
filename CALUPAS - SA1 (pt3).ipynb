{
 "cells": [
  {
   "cell_type": "code",
   "execution_count": 9,
   "id": "7ba38381-982c-479b-a6e5-a608ac3de830",
   "metadata": {},
   "outputs": [
    {
     "name": "stdout",
     "output_type": "stream",
     "text": [
      "Iteration 0: x = 2.154\n",
      "Iteration 1: x = 2.097\n",
      "Iteration 2: x = 2.119\n",
      "Iteration 3: x = 2.111\n",
      "Iteration 4: x = 2.114\n",
      "Iteration 5: x = 2.113\n",
      "Iteration 6: x = 2.113\n",
      "\n",
      "Solution to the equation: x ≈ 2.113\n"
     ]
    }
   ],
   "source": [
    "def inter_formula():\n",
    "    x_n = 2\n",
    "    prev_x = None\n",
    "    iteration = 0\n",
    "\n",
    "    while prev_x is None or round(x_n, 3) != round(prev_x, 3): # To limit to 3 dec places\n",
    "        prev_x = x_n\n",
    "        x_n = (20 - 5 * x_n) ** (1/3)  # Iterative formula\n",
    "        print(f\"Iteration {iteration}: x = {x_n:.3f}\")\n",
    "        iteration += 1\n",
    "\n",
    "    print(f\"\\nSolution to the equation: x ≈ {x_n:.3f}\")\n",
    "\n",
    "# Run the function\n",
    "inter_formula()\n"
   ]
  }
 ],
 "metadata": {
  "kernelspec": {
   "display_name": "Python [conda env:base] *",
   "language": "python",
   "name": "conda-base-py"
  },
  "language_info": {
   "codemirror_mode": {
    "name": "ipython",
    "version": 3
   },
   "file_extension": ".py",
   "mimetype": "text/x-python",
   "name": "python",
   "nbconvert_exporter": "python",
   "pygments_lexer": "ipython3",
   "version": "3.12.7"
  }
 },
 "nbformat": 4,
 "nbformat_minor": 5
}
